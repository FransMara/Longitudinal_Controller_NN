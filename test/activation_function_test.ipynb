{
 "cells": [
  {
   "cell_type": "markdown",
   "source": [
    "# Jupyter notebook to test custom activation function"
   ],
   "metadata": {
    "collapsed": false
   }
  },
  {
   "cell_type": "code",
   "execution_count": 47,
   "outputs": [],
   "source": [
    "import numpy as np\n",
    "import matplotlib.pyplot as plt"
   ],
   "metadata": {
    "collapsed": false
   }
  },
  {
   "cell_type": "markdown",
   "source": [
    "## Activation function"
   ],
   "metadata": {
    "collapsed": false
   }
  },
  {
   "cell_type": "code",
   "execution_count": 48,
   "outputs": [],
   "source": [
    "def activ_lin_1d(act_in, chan_id, chan_arr):\n",
    "    '''\n",
    "    Copy of the ActivLin1D class as Python function using numpy covering only the actual channels.\n",
    "\n",
    "    Arguments:\n",
    "     - act_in:   the input that activates the channels;\n",
    "     - chan_id:  index of the channel center (i.e., of the chan_arr element);\n",
    "     - chan_arr: array containing the channel centers.\n",
    "\n",
    "    Outputs:\n",
    "     - act_fcn: the activation function.\n",
    "    '''\n",
    "\n",
    "    # Compute the number of channels\n",
    "    chan_num = len(chan_arr)\n",
    "\n",
    "    # First dimension of activation\n",
    "    if chan_id == 0:\n",
    "        if chan_num != 1:\n",
    "            ampl    = chan_arr[1] - chan_arr[0]\n",
    "            act_fcn = np.minimum(\n",
    "                np.maximum(-(act_in - chan_arr[0])/ampl + 1, 0), 1)\n",
    "\n",
    "        else:\n",
    "            act_fcn = 1 # in case the user only wants one channel\n",
    "\n",
    "    elif chan_id != 0 and chan_id == (chan_num - 1):\n",
    "        ampl    = chan_arr[-1] - chan_arr[-2]\n",
    "        act_fcn = np.minimum(\n",
    "            np.maximum((act_in - chan_arr[-2])/ampl, 0), 1)\n",
    "\n",
    "    else:\n",
    "        ampl_1  = chan_arr[chan_id] - chan_arr[chan_id - 1]\n",
    "        ampl_2  = chan_arr[chan_id + 1] - chan_arr[chan_id]\n",
    "        act_fcn = np.minimum(\n",
    "            np.maximum((act_in - chan_arr[chan_id - 1])/ampl_1, 0),\n",
    "            np.maximum(-(act_in - chan_arr[chan_id])/ampl_2 + 1, 0))\n",
    "\n",
    "    return act_fcn"
   ],
   "metadata": {
    "collapsed": false
   }
  },
  {
   "cell_type": "markdown",
   "source": [
    "## Test"
   ],
   "metadata": {
    "collapsed": false
   }
  },
  {
   "cell_type": "code",
   "execution_count": 54,
   "metadata": {
    "collapsed": true
   },
   "outputs": [],
   "source": [
    "num_chan = 10\n",
    "chan_arr = np.array([-1.0,\n",
    "                     -0.8114791181352403,\n",
    "                     -0.6229582362704806,\n",
    "                     -0.43443735440572107,\n",
    "                     -0.24591647254096138,\n",
    "                     -0.0573955906762017,\n",
    "                     0.13112529118855787,\n",
    "                     0.31964617305331755,\n",
    "                     0.5081670549180772,\n",
    "                     0.6966879367828369\n",
    "                     ])\n",
    "\n",
    "act_in = [0.5969 , 0.2 , 0.3 , 0.4 , 0.5 , 0.6 , 0.7 , 0.8 , 0.7 , 0.6]\n",
    "\n",
    "act_fcn  = np.array([activ_lin_1d(act_in=act_in,\n",
    "                                  chan_id=i,\n",
    "                                  chan_arr=chan_arr) for i in range(num_chan)]).T"
   ]
  },
  {
   "cell_type": "code",
   "execution_count": 55,
   "outputs": [
    {
     "data": {
      "text/plain": "array([[0.        , 0.        , 0.        , 0.        , 0.        ,\n        0.        , 0.        , 0.        , 0.52932034, 0.47067966],\n       [0.        , 0.        , 0.        , 0.        , 0.        ,\n        0.        , 0.6346574 , 0.3653426 , 0.        , 0.        ],\n       [0.        , 0.        , 0.        , 0.        , 0.        ,\n        0.        , 0.10421219, 0.89578781, 0.        , 0.        ],\n       [0.        , 0.        , 0.        , 0.        , 0.        ,\n        0.        , 0.        , 0.57376697, 0.42623303, 0.        ],\n       [0.        , 0.        , 0.        , 0.        , 0.        ,\n        0.        , 0.        , 0.04332175, 0.95667825, 0.        ],\n       [0.        , 0.        , 0.        , 0.        , 0.        ,\n        0.        , 0.        , 0.        , 0.51287654, 0.48712346],\n       [0.        , 0.        , 0.        , 0.        , 0.        ,\n        0.        , 0.        , 0.        , 0.        , 1.        ],\n       [0.        , 0.        , 0.        , 0.        , 0.        ,\n        0.        , 0.        , 0.        , 0.        , 1.        ],\n       [0.        , 0.        , 0.        , 0.        , 0.        ,\n        0.        , 0.        , 0.        , 0.        , 1.        ],\n       [0.        , 0.        , 0.        , 0.        , 0.        ,\n        0.        , 0.        , 0.        , 0.51287654, 0.48712346]])"
     },
     "execution_count": 55,
     "metadata": {},
     "output_type": "execute_result"
    }
   ],
   "source": [
    "act_fcn"
   ],
   "metadata": {
    "collapsed": false
   }
  },
  {
   "cell_type": "code",
   "execution_count": 4,
   "outputs": [
    {
     "data": {
      "text/plain": "array([0., 0., 0., 0., 0., 0., 0., 0., 0., 0.])"
     },
     "execution_count": 4,
     "metadata": {},
     "output_type": "execute_result"
    }
   ],
   "source": [
    "act_fcn_1  = activ_lin_1d(act_in=act_in,\n",
    "                          chan_id=0,\n",
    "                          chan_arr=chan_arr)\n",
    "\n",
    "act_fcn_1"
   ],
   "metadata": {
    "collapsed": false
   }
  },
  {
   "cell_type": "code",
   "execution_count": null,
   "outputs": [],
   "source": [
    "act_fcn"
   ],
   "metadata": {
    "collapsed": false
   }
  },
  {
   "cell_type": "code",
   "execution_count": null,
   "outputs": [],
   "source": [
    "act_in"
   ],
   "metadata": {
    "collapsed": false
   }
  },
  {
   "cell_type": "code",
   "execution_count": null,
   "outputs": [],
   "source": [
    "# Plot the result\n",
    "plt.figure()\n",
    "plt.plot(act_in, act_fcn)\n",
    "plt.grid(True)\n",
    "plt.show()"
   ],
   "metadata": {
    "collapsed": false
   }
  },
  {
   "cell_type": "code",
   "execution_count": null,
   "outputs": [],
   "source": [
    "check_sum =  np.mean(np.sum(act_fcn, axis=1))\n",
    "assert check_sum == 1.0,\\\n",
    "           f'The sum of all activation functions is not 1, it is: {check_sum:.4e}'\n",
    "print(f'The sum of all activation functions is: {check_sum:.4e}')"
   ],
   "metadata": {
    "collapsed": false
   }
  },
  {
   "cell_type": "code",
   "execution_count": null,
   "outputs": [],
   "source": [],
   "metadata": {
    "collapsed": false
   }
  }
 ],
 "metadata": {
  "kernelspec": {
   "display_name": "Python 3",
   "language": "python",
   "name": "python3"
  },
  "language_info": {
   "codemirror_mode": {
    "name": "ipython",
    "version": 2
   },
   "file_extension": ".py",
   "mimetype": "text/x-python",
   "name": "python",
   "nbconvert_exporter": "python",
   "pygments_lexer": "ipython2",
   "version": "2.7.6"
  }
 },
 "nbformat": 4,
 "nbformat_minor": 0
}
