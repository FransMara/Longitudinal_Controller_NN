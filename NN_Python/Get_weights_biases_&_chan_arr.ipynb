{
 "cells": [
  {
   "attachments": {},
   "cell_type": "markdown",
   "metadata": {
    "collapsed": false
   },
   "source": [
    "# Get model weights and biases"
   ]
  },
  {
   "attachments": {},
   "cell_type": "markdown",
   "metadata": {},
   "source": [
    "## Imports"
   ]
  },
  {
   "cell_type": "code",
   "execution_count": 3,
   "metadata": {
    "collapsed": false
   },
   "outputs": [],
   "source": [
    "import keras.models\n",
    "import tensorflow as tf\n",
    "import numpy as np\n",
    "import pandas as pd\n",
    "import csv\n",
    "from src.functions import initializers as ci # i.e., custom initializers\n",
    "from src.functions.layers import ActivLin1D\n",
    "from src.functions import activation_parameters as ap\n",
    "from src.utils import data_handler as dh"
   ]
  },
  {
   "attachments": {},
   "cell_type": "markdown",
   "metadata": {
    "collapsed": false
   },
   "source": [
    "## Load model who's weights we want to extract"
   ]
  },
  {
   "cell_type": "code",
   "execution_count": 14,
   "metadata": {
    "collapsed": true
   },
   "outputs": [],
   "source": [
    "# Model save path:\n",
    "inv_save_path = '/Users/francescomaraschin/Library/Mobile Documents/com~apple~CloudDocs/Universtiy/IntelligentVehicles/LongitudinalControllerNN/Data/trained_models/inverse_model/inverse_model.h5'\n",
    "\n",
    "inverse_model = tf.keras.models.load_model(filepath=inv_save_path,\n",
    "                                            custom_objects={\n",
    "                                                'MyInitializer': ci.MyInitializer,\n",
    "                                                'ActivLin1D': ActivLin1D\n",
    "                                            })"
   ]
  },
  {
   "attachments": {},
   "cell_type": "markdown",
   "metadata": {
    "collapsed": false
   },
   "source": [
    "## Get training channel array"
   ]
  },
  {
   "cell_type": "code",
   "execution_count": 15,
   "metadata": {
    "collapsed": false
   },
   "outputs": [
    {
     "data": {
      "text/plain": [
       "array([0.        , 0.11111111, 0.22222222, 0.33333333, 0.44444444,\n",
       "       0.55555556, 0.66666667, 0.77777778, 0.88888889, 1.        ])"
      ]
     },
     "execution_count": 15,
     "metadata": {},
     "output_type": "execute_result"
    }
   ],
   "source": [
    "# dataset saved path:\n",
    "direct_dataset_path = '/Users/francescomaraschin/Library/Mobile Documents/com~apple~CloudDocs/Universtiy/IntelligentVehicles/LongitudinalControllerNN/Data/csv/filtered_real_world_data1.csv'\n",
    "direct_dataset = dh.load_csv(direct_dataset_path)\n",
    "channel_parameters = ap.activation_function_parameters(dataset=direct_dataset)\n",
    "\n",
    "chan_array = channel_parameters[1][0]\n",
    "\n",
    "# Print channel array to verify correctness:\n",
    "chan_array"
   ]
  },
  {
   "attachments": {},
   "cell_type": "markdown",
   "metadata": {
    "collapsed": false
   },
   "source": [
    "## Get weights of model layers:"
   ]
  },
  {
   "cell_type": "code",
   "execution_count": 16,
   "metadata": {
    "collapsed": false
   },
   "outputs": [],
   "source": [
    "# initialise weights:\n",
    "weights = [layer.get_weights()\n",
    "           for layer in inverse_model.layers]\n",
    "\n",
    "# Weights is a list of a list of arrays containing the weights and biases of each layer and NN\n",
    "#weights"
   ]
  },
  {
   "attachments": {},
   "cell_type": "markdown",
   "metadata": {},
   "source": [
    "## Print indexes and values of weigths of layers"
   ]
  },
  {
   "cell_type": "code",
   "execution_count": 17,
   "metadata": {
    "collapsed": false
   },
   "outputs": [
    {
     "name": "stdout",
     "output_type": "stream",
     "text": [
      " 0: [].\n",
      " 1: [].\n",
      " 2: [].\n",
      " 3: [].\n",
      " 4: [].\n",
      " 5: [].\n",
      " 6: [].\n",
      " 7: [].\n",
      " 8: [].\n",
      " 9: [].\n",
      "10: [].\n",
      "11: [].\n",
      "12: [].\n",
      "13: [].\n",
      "14: [array([[ 3.8758993e-01],\n",
      "       [-3.8885161e-01],\n",
      "       [-1.0733942e-01],\n",
      "       [-5.4986906e-01],\n",
      "       [ 6.0522854e-03],\n",
      "       [ 1.9577237e-05],\n",
      "       [ 6.2541354e-01],\n",
      "       [ 5.0290322e-01],\n",
      "       [-3.4557441e-01],\n",
      "       [ 9.7958684e-02]], dtype=float32), array([-0.00905603], dtype=float32)].\n",
      "15: [array([[-0.13395278],\n",
      "       [ 0.88123053],\n",
      "       [-0.39526534],\n",
      "       [-0.36815736],\n",
      "       [ 0.16488996],\n",
      "       [ 0.06465393],\n",
      "       [-0.08401722],\n",
      "       [ 0.23382747],\n",
      "       [ 0.292847  ],\n",
      "       [ 0.00481008]], dtype=float32), array([-0.00905603], dtype=float32)].\n",
      "16: [array([[-0.05415834],\n",
      "       [ 0.43337265],\n",
      "       [-0.30284703],\n",
      "       [ 0.42166102],\n",
      "       [ 0.08066344],\n",
      "       [-0.6030121 ],\n",
      "       [ 0.3616839 ],\n",
      "       [ 0.3017976 ],\n",
      "       [-0.12249547],\n",
      "       [ 0.10635658]], dtype=float32), array([-0.00905603], dtype=float32)].\n",
      "17: [array([[ 0.13428171],\n",
      "       [-0.32162055],\n",
      "       [ 0.6318998 ],\n",
      "       [-0.29388788],\n",
      "       [ 0.15053654],\n",
      "       [ 0.2992248 ],\n",
      "       [-0.01382544],\n",
      "       [-0.0944653 ],\n",
      "       [ 0.3547959 ],\n",
      "       [-0.2825312 ]], dtype=float32), array([-0.00905603], dtype=float32)].\n",
      "18: [array([[-0.00667753],\n",
      "       [-0.02225412],\n",
      "       [ 0.7772309 ],\n",
      "       [-0.5242916 ],\n",
      "       [ 0.12307693],\n",
      "       [ 0.18625285],\n",
      "       [ 0.48615438],\n",
      "       [ 0.16705899],\n",
      "       [-0.62059003],\n",
      "       [ 0.08114763]], dtype=float32), array([-0.00905603], dtype=float32)].\n",
      "19: [array([[-0.20110384],\n",
      "       [ 0.5134023 ],\n",
      "       [ 0.13291165],\n",
      "       [ 0.11725798],\n",
      "       [-0.2661695 ],\n",
      "       [ 0.49213606],\n",
      "       [ 0.2767087 ],\n",
      "       [ 0.36167845],\n",
      "       [-0.14720728],\n",
      "       [-0.69315124]], dtype=float32), array([-0.00905603], dtype=float32)].\n",
      "20: [array([[-0.14447528],\n",
      "       [ 0.5259881 ],\n",
      "       [ 0.370021  ],\n",
      "       [ 0.13079108],\n",
      "       [ 0.13517384],\n",
      "       [ 0.31957123],\n",
      "       [-0.25617096],\n",
      "       [ 0.39747462],\n",
      "       [-0.561361  ],\n",
      "       [-0.06919789]], dtype=float32), array([-0.00905603], dtype=float32)].\n",
      "21: [array([[-0.04996782],\n",
      "       [ 0.6539879 ],\n",
      "       [ 0.63032234],\n",
      "       [-0.5571938 ],\n",
      "       [ 0.5246279 ],\n",
      "       [ 0.45968178],\n",
      "       [-0.44891086],\n",
      "       [-0.08658966],\n",
      "       [ 0.38300622],\n",
      "       [-0.5284737 ]], dtype=float32), array([-0.00905603], dtype=float32)].\n",
      "22: [array([[ 0.1498034 ],\n",
      "       [ 0.47980538],\n",
      "       [-0.18625699],\n",
      "       [ 0.8250797 ],\n",
      "       [-0.02249249],\n",
      "       [-0.15355518],\n",
      "       [-0.2565628 ],\n",
      "       [ 0.38980266],\n",
      "       [ 0.36242327],\n",
      "       [-0.7352762 ]], dtype=float32), array([-0.00905603], dtype=float32)].\n",
      "23: [array([[ 0.41773397],\n",
      "       [ 0.11387198],\n",
      "       [ 0.40530008],\n",
      "       [ 0.2515869 ],\n",
      "       [ 0.43236056],\n",
      "       [-0.7704636 ],\n",
      "       [ 0.43257067],\n",
      "       [ 0.04392343],\n",
      "       [ 0.01861567],\n",
      "       [-0.07280811]], dtype=float32), array([-0.00905603], dtype=float32)].\n",
      "24: [].\n",
      "25: [].\n",
      "26: [].\n",
      "27: [].\n",
      "28: [].\n",
      "29: [].\n",
      "30: [].\n",
      "31: [].\n",
      "32: [].\n",
      "33: [].\n",
      "34: [].\n",
      "35: [array([[-1.1853298]], dtype=float32)].\n",
      "36: [].\n",
      "37: [].\n",
      "38: [].\n"
     ]
    }
   ],
   "source": [
    "for i, layer in enumerate(inverse_model.layers):\n",
    "    print(f'{i:2d}: {layer.get_weights()}.')"
   ]
  },
  {
   "attachments": {},
   "cell_type": "markdown",
   "metadata": {
    "collapsed": false
   },
   "source": [
    "## Velocity layer weight of inverse model:"
   ]
  },
  {
   "cell_type": "code",
   "execution_count": 18,
   "metadata": {
    "collapsed": false
   },
   "outputs": [],
   "source": [
    "# Isolate velocity weight:\n",
    "vel_weight = weights[35]\n",
    "# Convert to np array:\n",
    "vel_weight = np.array(vel_weight)\n",
    "# Remove dtype extension:\n",
    "vel_weight = vel_weight.tolist()\n",
    "# Reshape:\n",
    "vel_weight = np.reshape(vel_weight , 1)\n",
    "\n",
    "# Remember that there is only one weight without a bias in the whole model for the velocity\n",
    "#vel_weight"
   ]
  },
  {
   "attachments": {},
   "cell_type": "markdown",
   "metadata": {
    "collapsed": false
   },
   "source": [
    "## Pedal layer weights & biases"
   ]
  },
  {
   "cell_type": "code",
   "execution_count": 19,
   "metadata": {
    "collapsed": false
   },
   "outputs": [],
   "source": [
    "# Isolate pedal weights and biases\n",
    "pedal_layer = weights[14:24]\n",
    "\n",
    "# Separate pedal weights and biases:\n",
    "pedal_weights = []\n",
    "pedal_bias = []\n",
    "for layer in pedal_layer:\n",
    "    pedal_weights.append(layer[0])\n",
    "    pedal_bias.append(layer[1])\n",
    "\n",
    "# Convert to np array\n",
    "pedal_weights_array = np.array(pedal_weights)\n",
    "pedal_bias_array = np.array(pedal_bias)\n",
    "# Remove dtype extension\n",
    "pedal_weights_array = pedal_weights_array.tolist()\n",
    "pedal_bias_array = pedal_bias_array.tolist()\n",
    "# Reshape to make matrix ----> Columns = Weights\n",
    "#                              Rows    = Different neural networks\n",
    "pedal_weights_array = np.reshape(pedal_weights_array , (10,10))\n",
    "pedal_bias_array = np.reshape(pedal_bias_array , (10,1))"
   ]
  },
  {
   "attachments": {},
   "cell_type": "markdown",
   "metadata": {
    "collapsed": false
   },
   "source": [
    "## Save to csv"
   ]
  },
  {
   "cell_type": "code",
   "execution_count": 21,
   "metadata": {
    "collapsed": false
   },
   "outputs": [],
   "source": [
    "# Pedal Weights:\n",
    "pd.DataFrame(pedal_weights_array).to_csv(\"/Users/francescomaraschin/Library/Mobile Documents/com~apple~CloudDocs/Universtiy/IntelligentVehicles/LongitudinalControllerNN/Data/csv/weightsBias&ChanArray/pedal_weights.csv\", header=None, index=None)\n",
    "\n",
    "# Pedal Bias:\n",
    "pd.DataFrame(pedal_bias_array).to_csv(\"/Users/francescomaraschin/Library/Mobile Documents/com~apple~CloudDocs/Universtiy/IntelligentVehicles/LongitudinalControllerNN/Data/csv/weightsBias&ChanArray/pedal_biases.csv\", header=None, index=None)\n",
    "\n",
    "# Velocity Weight:\n",
    "pd.DataFrame(vel_weight).to_csv(\"/Users/francescomaraschin/Library/Mobile Documents/com~apple~CloudDocs/Universtiy/IntelligentVehicles/LongitudinalControllerNN/Data/csv/weightsBias&ChanArray/velocity_weight.csv\", header=None, index=None)\n",
    "\n",
    "# Channel Array:\n",
    "pd.DataFrame(chan_array).to_csv(\"/Users/francescomaraschin/Library/Mobile Documents/com~apple~CloudDocs/Universtiy/IntelligentVehicles/LongitudinalControllerNN/Data/csv/weightsBias&ChanArray/chan_array.csv\", header=None, index=None)"
   ]
  }
 ],
 "metadata": {
  "kernelspec": {
   "display_name": "Python 3",
   "language": "python",
   "name": "python3"
  },
  "language_info": {
   "codemirror_mode": {
    "name": "ipython",
    "version": 3
   },
   "file_extension": ".py",
   "mimetype": "text/x-python",
   "name": "python",
   "nbconvert_exporter": "python",
   "pygments_lexer": "ipython3",
   "version": "3.9.6"
  }
 },
 "nbformat": 4,
 "nbformat_minor": 0
}
