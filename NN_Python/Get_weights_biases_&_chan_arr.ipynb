{
 "cells": [
  {
   "cell_type": "code",
   "execution_count": 27,
   "outputs": [],
   "source": [
    "import keras.models\n",
    "import tensorflow as tf\n",
    "import numpy as np\n",
    "import pandas as pd\n",
    "import csv\n",
    "from src.functions import initializers as ci # i.e., custom initializers\n",
    "from src.functions.layers import ActivLin1D\n",
    "from src.functions import activation_parameters as ap\n",
    "from src.utils import data_handler as dh"
   ],
   "metadata": {
    "collapsed": false
   }
  },
  {
   "cell_type": "markdown",
   "source": [
    "# Get model weights and biases"
   ],
   "metadata": {
    "collapsed": false
   }
  },
  {
   "cell_type": "markdown",
   "source": [
    "## Load model"
   ],
   "metadata": {
    "collapsed": false
   }
  },
  {
   "cell_type": "code",
   "execution_count": 28,
   "metadata": {
    "collapsed": true
   },
   "outputs": [],
   "source": [
    "# Model save path:\n",
    "inv_save_path = '/Users/francescomaraschin/Desktop/IntelligentVehicles/Project_NN_Conda/data/trained_models/inverse_model/inverse_model.h5'\n",
    "\n",
    "inverse_model = tf.keras.models.load_model(filepath=inv_save_path,\n",
    "                                            custom_objects={\n",
    "                                                'MyInitializer': ci.MyInitializer,\n",
    "                                                'ActivLin1D': ActivLin1D\n",
    "                                            })"
   ]
  },
  {
   "cell_type": "markdown",
   "source": [
    "## Get training channel array"
   ],
   "metadata": {
    "collapsed": false
   }
  },
  {
   "cell_type": "code",
   "execution_count": 29,
   "outputs": [],
   "source": [
    "# dataset saved path:\n",
    "direct_dataset_path = '/Users/francescomaraschin/Desktop/IntelligentVehicles/Project_NN_Conda/data/csv/forward_profiles.csv'\n",
    "direct_dataset = dh.load_csv(direct_dataset_path)\n",
    "channel_parameters = ap.activation_function_parameters(dataset=direct_dataset)\n",
    "\n",
    "chan_array = channel_parameters[1][0]"
   ],
   "metadata": {
    "collapsed": false
   }
  },
  {
   "cell_type": "markdown",
   "source": [
    "## Get weights of model layers:"
   ],
   "metadata": {
    "collapsed": false
   }
  },
  {
   "cell_type": "code",
   "execution_count": 30,
   "outputs": [],
   "source": [
    "# initialise weights:\n",
    "weights = [0.]*np.size(inverse_model.layers)\n",
    "i = 0\n",
    "for layer in inverse_model.layers:\n",
    "    weights[i] = layer.get_weights()\n",
    "    i = i +1\n",
    "\n",
    "# Weights is a list of a list of arrays containing the weights and biases of each layer and NN\n",
    "#weights"
   ],
   "metadata": {
    "collapsed": false
   }
  },
  {
   "cell_type": "code",
   "execution_count": 31,
   "outputs": [
    {
     "data": {
      "text/plain": "[[],\n [],\n [],\n [],\n [],\n [],\n [],\n [],\n [],\n [],\n [],\n [],\n [],\n [],\n [array([[-0.3013694 ],\n         [-0.21401055],\n         [-0.16725454],\n         [-0.04437852],\n         [ 0.0029236 ],\n         [ 0.00625809],\n         [-0.03809135],\n         [ 0.04702611],\n         [ 0.08145902],\n         [ 0.20249932]], dtype=float32),\n  array([0.00514109], dtype=float32)],\n [array([[-0.1438509 ],\n         [-0.13459662],\n         [-0.04960714],\n         [-0.10883838],\n         [ 0.0180884 ],\n         [-0.02525126],\n         [-0.08118733],\n         [ 0.03148369],\n         [ 0.06431846],\n         [ 0.14356282]], dtype=float32),\n  array([0.00514109], dtype=float32)],\n [array([[-0.12340202],\n         [ 0.01467817],\n         [-0.00300071],\n         [ 0.00929729],\n         [-0.07514442],\n         [-0.10522723],\n         [ 0.02867376],\n         [ 0.00520092],\n         [ 0.04415568],\n         [-0.03207032]], dtype=float32),\n  array([0.00514109], dtype=float32)],\n [array([[-0.00980137],\n         [-0.03072673],\n         [ 0.01242923],\n         [ 0.02161353],\n         [ 0.0103015 ],\n         [-0.05580036],\n         [-0.01594034],\n         [ 0.0011695 ],\n         [ 0.01375648],\n         [-0.08429261]], dtype=float32),\n  array([0.00514109], dtype=float32)],\n [array([[-0.0839626 ],\n         [ 0.03814959],\n         [ 0.0394404 ],\n         [ 0.04111755],\n         [ 0.01430363],\n         [-0.04948635],\n         [-0.04249115],\n         [-0.05142451],\n         [ 0.00557784],\n         [ 0.02386645]], dtype=float32),\n  array([0.00514109], dtype=float32)],\n [array([[ 0.03437018],\n         [ 0.00611484],\n         [-0.05621478],\n         [ 0.02332055],\n         [ 0.02356318],\n         [-0.01099851],\n         [-0.02210198],\n         [ 0.00083936],\n         [-0.00186348],\n         [-0.02378369]], dtype=float32),\n  array([0.00514109], dtype=float32)],\n [array([[ 0.03752324],\n         [ 0.00079066],\n         [-0.00434223],\n         [ 0.02076139],\n         [ 0.03701533],\n         [-0.06056882],\n         [-0.00196341],\n         [ 0.03621814],\n         [-0.03360614],\n         [ 0.03177512]], dtype=float32),\n  array([0.00514109], dtype=float32)],\n [array([[ 0.06005531],\n         [ 0.01784403],\n         [-0.00632526],\n         [-0.0149212 ],\n         [ 0.0054592 ],\n         [ 0.00649814],\n         [ 0.021509  ],\n         [-0.01161408],\n         [-0.03514795],\n         [ 0.02336888]], dtype=float32),\n  array([0.00514109], dtype=float32)],\n [array([[ 0.09394425],\n         [ 0.11355642],\n         [-0.03204444],\n         [-0.01861686],\n         [ 0.01004034],\n         [ 0.03935217],\n         [-0.02295414],\n         [ 0.06019424],\n         [ 0.03328411],\n         [ 0.01804344]], dtype=float32),\n  array([0.00514109], dtype=float32)],\n [array([[ 0.07680781],\n         [ 0.08725314],\n         [-0.01785458],\n         [-0.01201087],\n         [-0.05588881],\n         [ 0.05405117],\n         [-0.04010878],\n         [-0.02362576],\n         [-0.03405226],\n         [-0.03506312]], dtype=float32),\n  array([0.00514109], dtype=float32)],\n [],\n [],\n [],\n [],\n [],\n [],\n [],\n [],\n [],\n [],\n [],\n [array([[0.10332105]], dtype=float32)],\n [],\n [],\n []]"
     },
     "execution_count": 31,
     "metadata": {},
     "output_type": "execute_result"
    }
   ],
   "source": [
    "weights"
   ],
   "metadata": {
    "collapsed": false
   }
  },
  {
   "cell_type": "markdown",
   "source": [
    "## Velocity layer weight of complete model:"
   ],
   "metadata": {
    "collapsed": false
   }
  },
  {
   "cell_type": "code",
   "execution_count": 24,
   "outputs": [],
   "source": [
    "# Isolate velocity weight:\n",
    "vel_weight = weights[35]\n",
    "# Convert to np array:\n",
    "vel_weight = np.array(vel_weight)\n",
    "# Remove dtype extension:\n",
    "vel_weight = vel_weight.tolist()\n",
    "# Reshape:\n",
    "vel_weight = np.reshape(vel_weight , (1))\n",
    "\n",
    "# Remember that there is only one weight without a bias in the whole model for the velocity\n",
    "#vel_weight"
   ],
   "metadata": {
    "collapsed": false
   }
  },
  {
   "cell_type": "markdown",
   "source": [
    "## Pedal layer weights & biases"
   ],
   "metadata": {
    "collapsed": false
   }
  },
  {
   "cell_type": "code",
   "execution_count": 25,
   "outputs": [],
   "source": [
    "# Isolate pedal weights and biases\n",
    "pedal_layer = weights[14:24]\n",
    "\n",
    "# Separate pedal weights and biases:\n",
    "pedal_weights = []\n",
    "pedal_bias = []\n",
    "for layer in pedal_layer:\n",
    "    pedal_weights.append(layer[0])\n",
    "    pedal_bias.append(layer[1])\n",
    "\n",
    "# Convert to np array\n",
    "pedal_weights_array = np.array(pedal_weights)\n",
    "pedal_bias_array = np.array(pedal_bias)\n",
    "# Remove dtype extension\n",
    "pedal_weights_array = pedal_weights_array.tolist()\n",
    "pedal_bias_array = pedal_bias_array.tolist()\n",
    "# Reshape to make matrix ----> Columns = Weights\n",
    "#                              Rows    = Different neural networks\n",
    "pedal_weights_array = np.reshape(pedal_weights_array , (10,10))\n",
    "pedal_bias_array = np.reshape(pedal_bias_array , (10,1))\n",
    "\n",
    "#pedal_weights_array"
   ],
   "metadata": {
    "collapsed": false
   }
  },
  {
   "cell_type": "markdown",
   "source": [
    "## Save to csv"
   ],
   "metadata": {
    "collapsed": false
   }
  },
  {
   "cell_type": "code",
   "execution_count": 26,
   "outputs": [],
   "source": [
    "# Pedal Weights:\n",
    "pd.DataFrame(pedal_weights_array).to_csv(\"data/csv/weightsBias&ChanArray/pedal_weights.csv\", header=None, index=None)\n",
    "\n",
    "# Pedal Bias:\n",
    "pd.DataFrame(pedal_bias_array).to_csv(\"data/csv/weightsBias&ChanArray/pedal_biases.csv\", header=None, index=None)\n",
    "\n",
    "# Velocity Weight:\n",
    "pd.DataFrame(vel_weight).to_csv(\"data/csv/weightsBias&ChanArray/velocity_weight.csv\", header=None, index=None)\n",
    "\n",
    "# Channel Array:\n",
    "pd.DataFrame(chan_array).to_csv(\"data/csv/weightsBias&ChanArray/chan_array.csv\", header=None, index=None)"
   ],
   "metadata": {
    "collapsed": false
   }
  },
  {
   "cell_type": "code",
   "execution_count": null,
   "outputs": [],
   "source": [],
   "metadata": {
    "collapsed": false
   }
  }
 ],
 "metadata": {
  "kernelspec": {
   "display_name": "Python 3",
   "language": "python",
   "name": "python3"
  },
  "language_info": {
   "codemirror_mode": {
    "name": "ipython",
    "version": 2
   },
   "file_extension": ".py",
   "mimetype": "text/x-python",
   "name": "python",
   "nbconvert_exporter": "python",
   "pygments_lexer": "ipython2",
   "version": "2.7.6"
  }
 },
 "nbformat": 4,
 "nbformat_minor": 0
}
