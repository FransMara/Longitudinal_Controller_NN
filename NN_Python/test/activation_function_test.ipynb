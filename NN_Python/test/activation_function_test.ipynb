{
 "cells": [
  {
   "attachments": {},
   "cell_type": "markdown",
   "metadata": {},
   "source": [
    "# Jupyter SCRAPbook to test custom activation function"
   ]
  },
  {
   "cell_type": "code",
   "execution_count": null,
   "metadata": {},
   "outputs": [],
   "source": [
    "import numpy as np\n",
    "import matplotlib.pyplot as plt\n",
    "import keras.models\n",
    "import tensorflow as tf\n",
    "import pandas as pd\n",
    "import csv\n",
    "from src.functions import initializers as ci # i.e., custom initializers\n",
    "from src.functions.layers import ActivLin1D\n",
    "from src.functions import activation_parameters as ap\n",
    "from src.utils import data_handler as dh\n",
    "import matplotlib.pyplot as plt"
   ]
  },
  {
   "cell_type": "code",
   "execution_count": 139,
   "metadata": {},
   "outputs": [],
   "source": [
    "# Model save path:\n",
    "inv_save_path = '/Users/francescomaraschin/Desktop/IntelligentVehicles/Project_NN_Conda/data/trained_models/inverse_model/inverse_model.h5'\n",
    "\n",
    "inverse_model = tf.keras.models.load_model(filepath=inv_save_path,\n",
    "                                            custom_objects={\n",
    "                                                'MyInitializer': ci.MyInitializer,\n",
    "                                                'ActivLin1D': ActivLin1D\n",
    "                                            })\n",
    "\n",
    "# Reshape and split data\n",
    "inverse_dataset_path = '/Users/francescomaraschin/Desktop/IntelligentVehicles/LongitudinalControllerNN/Data/csv/inverse_dataset.csv'\n",
    "inverse_dataset = dh.load_csv(inverse_dataset_path)\n",
    "train_data, valid_data, time = dh.window_data(dataset=inverse_dataset,\n",
    "                                              input_labels=['acceleration',\n",
    "                                                            'velocity'],\n",
    "                                              output_labels=['pedal'],\n",
    "                                              input_window=10,\n",
    "                                              output_window=1,\n",
    "                                              batch_size=100,\n",
    "                                              validation_split=0.3)\n",
    "\n",
    "velocity = train_data[0][1]"
   ]
  },
  {
   "cell_type": "code",
   "execution_count": 140,
   "metadata": {
    "collapsed": false
   },
   "outputs": [
    {
     "data": {
      "text/plain": [
       "(11200, 10)"
      ]
     },
     "execution_count": 140,
     "metadata": {},
     "output_type": "execute_result"
    }
   ],
   "source": [
    "np.shape(velocity)"
   ]
  },
  {
   "attachments": {},
   "cell_type": "markdown",
   "metadata": {},
   "source": [
    "## Activation function"
   ]
  },
  {
   "cell_type": "code",
   "execution_count": 141,
   "metadata": {
    "collapsed": false
   },
   "outputs": [],
   "source": [
    "def activ_lin_1d(act_in, chan_id, chan_arr):\n",
    "    '''\n",
    "    Copy of the ActivLin1D class as Python function using numpy covering only the actual channels.\n",
    "\n",
    "    Arguments:\n",
    "     - act_in:   the input that activates the channels;\n",
    "     - chan_id:  index of the channel center (i.e., of the chan_arr element);\n",
    "     - chan_arr: array containing the channel centers.\n",
    "\n",
    "    Outputs:\n",
    "     - act_fcn: the activation function.\n",
    "    '''\n",
    "\n",
    "    # Compute the number of channels\n",
    "    chan_num = len(chan_arr)\n",
    "\n",
    "    # First dimension of activation\n",
    "    if chan_id == 0:\n",
    "        if chan_num != 1:\n",
    "            ampl    = chan_arr[1] - chan_arr[0]\n",
    "            act_fcn = np.minimum(\n",
    "                np.maximum(-(act_in - chan_arr[0])/ampl + 1, 0), 1)\n",
    "\n",
    "        else:\n",
    "            act_fcn = 1 # in case the user only wants one channel\n",
    "\n",
    "    elif chan_id != 0 and chan_id == (chan_num - 1):\n",
    "        ampl    = chan_arr[-1] - chan_arr[-2]\n",
    "        act_fcn = np.minimum(\n",
    "            np.maximum((act_in - chan_arr[-2])/ampl, 0), 1)\n",
    "\n",
    "    else:\n",
    "        ampl_1  = chan_arr[chan_id] - chan_arr[chan_id - 1]\n",
    "        ampl_2  = chan_arr[chan_id + 1] - chan_arr[chan_id]\n",
    "        act_fcn = np.minimum(\n",
    "            np.maximum((act_in - chan_arr[chan_id - 1])/ampl_1, 0),\n",
    "            np.maximum(-(act_in - chan_arr[chan_id])/ampl_2 + 1, 0))\n",
    "\n",
    "    return act_fcn"
   ]
  },
  {
   "attachments": {},
   "cell_type": "markdown",
   "metadata": {
    "collapsed": false
   },
   "source": [
    "## Test"
   ]
  },
  {
   "cell_type": "code",
   "execution_count": 176,
   "metadata": {},
   "outputs": [],
   "source": [
    "num_chan = 10\n",
    "chan_arr = np.array([-1.0,\n",
    "        -0.8114791181352403,\n",
    "        -0.6229582362704806,\n",
    "        -0.43443735440572107,\n",
    "        -0.24591647254096138,\n",
    "        -0.0573955906762017,\n",
    "        0.13112529118855787,\n",
    "        0.31964617305331755,\n",
    "        0.5081670549180772,\n",
    "        0.6966879367828369\n",
    "                     ])\n",
    "\n",
    "act_in = velocity[0]\n",
    "\n",
    "act_fcn  = np.array([activ_lin_1d(act_in=act_in,\n",
    "                                  chan_id=i,\n",
    "                                  chan_arr=chan_arr) for i in range(num_chan)]).T"
   ]
  },
  {
   "cell_type": "code",
   "execution_count": 177,
   "metadata": {
    "collapsed": false
   },
   "outputs": [
    {
     "data": {
      "text/plain": [
       "array([-2.9426666e-09, -2.2764150e-08,  2.0929241e-08, -3.6351227e-07,\n",
       "       -6.3535567e-06, -5.4394652e-05, -4.0748707e-04, -1.8456370e-03,\n",
       "        4.7330112e-05,  1.7191232e-03], dtype=float32)"
      ]
     },
     "execution_count": 177,
     "metadata": {},
     "output_type": "execute_result"
    }
   ],
   "source": [
    "np.shape(act_in)\n",
    "act_in"
   ]
  },
  {
   "cell_type": "code",
   "execution_count": 175,
   "metadata": {
    "collapsed": false
   },
   "outputs": [
    {
     "data": {
      "text/plain": [
       "array([[0.],\n",
       "       [0.],\n",
       "       [0.],\n",
       "       [0.],\n",
       "       [0.],\n",
       "       [0.],\n",
       "       [0.],\n",
       "       [0.],\n",
       "       [0.],\n",
       "       [0.]], dtype=float32)"
      ]
     },
     "execution_count": 175,
     "metadata": {},
     "output_type": "execute_result"
    }
   ],
   "source": [
    "act_fcn"
   ]
  },
  {
   "cell_type": "code",
   "execution_count": 148,
   "metadata": {
    "collapsed": false
   },
   "outputs": [
    {
     "data": {
      "text/plain": [
       "(10, 10)"
      ]
     },
     "execution_count": 148,
     "metadata": {},
     "output_type": "execute_result"
    }
   ],
   "source": [
    "np.shape(act_fcn)"
   ]
  },
  {
   "cell_type": "code",
   "execution_count": 97,
   "metadata": {
    "collapsed": false
   },
   "outputs": [
    {
     "data": {
      "text/plain": [
       "array([[0.        , 0.        , 0.        , 0.        , 0.        ,\n",
       "        0.6955478 , 0.30445215, 0.        , 0.        , 0.        ],\n",
       "       [0.        , 0.        , 0.        , 0.        , 0.        ,\n",
       "        0.69554794, 0.30445206, 0.        , 0.        , 0.        ],\n",
       "       [0.        , 0.        , 0.        , 0.        , 0.        ,\n",
       "        0.6955477 , 0.3044523 , 0.        , 0.        , 0.        ],\n",
       "       [0.        , 0.        , 0.        , 0.        , 0.        ,\n",
       "        0.6955497 , 0.30445024, 0.        , 0.        , 0.        ],\n",
       "       [0.        , 0.        , 0.        , 0.        , 0.        ,\n",
       "        0.69558156, 0.30441847, 0.        , 0.        , 0.        ],\n",
       "       [0.        , 0.        , 0.        , 0.        , 0.        ,\n",
       "        0.6958363 , 0.30416366, 0.        , 0.        , 0.        ],\n",
       "       [0.        , 0.        , 0.        , 0.        , 0.        ,\n",
       "        0.6977093 , 0.30229068, 0.        , 0.        , 0.        ],\n",
       "       [0.        , 0.        , 0.        , 0.        , 0.        ,\n",
       "        0.7053379 , 0.2946621 , 0.        , 0.        , 0.        ],\n",
       "       [0.        , 0.        , 0.        , 0.        , 0.        ,\n",
       "        0.69529676, 0.30470324, 0.        , 0.        , 0.        ],\n",
       "       [0.        , 0.        , 0.        , 0.        , 0.        ,\n",
       "        0.6864288 , 0.31357118, 0.        , 0.        , 0.        ]],\n",
       "      dtype=float32)"
      ]
     },
     "execution_count": 97,
     "metadata": {},
     "output_type": "execute_result"
    }
   ],
   "source": [
    "act_fcn"
   ]
  },
  {
   "cell_type": "code",
   "execution_count": 76,
   "metadata": {},
   "outputs": [],
   "source": [
    "\n",
    "pd.DataFrame(act_fcn[0]).to_csv(\"/Users/francescomaraschin/Desktop/IntelligentVehicles/LongitudinalControllerNN/NN_Python/test/act_fcn.csv\",\n",
    "                              header=None,\n",
    "                              index=None ,\n",
    "                              lineterminator = '\\n'\n",
    "                              )"
   ]
  },
  {
   "cell_type": "code",
   "execution_count": 49,
   "metadata": {},
   "outputs": [
    {
     "name": "stdout",
     "output_type": "stream",
     "text": [
      "The sum of all activation functions is: 1.0000e+00\n"
     ]
    }
   ],
   "source": [
    "check_sum =  np.mean(np.sum(act_fcn, axis = 0))\n",
    "assert check_sum == 1.0,\\\n",
    "           f'The sum of all activation functions is not 1, it is: {check_sum:.4e}'\n",
    "print(f'The sum of all activation functions is: {check_sum:.4e}')"
   ]
  },
  {
   "cell_type": "code",
   "execution_count": null,
   "metadata": {},
   "outputs": [],
   "source": []
  }
 ],
 "metadata": {
  "kernelspec": {
   "display_name": "Python 3 (ipykernel)",
   "language": "python",
   "name": "python3"
  },
  "language_info": {
   "codemirror_mode": {
    "name": "ipython",
    "version": 3
   },
   "file_extension": ".py",
   "mimetype": "text/x-python",
   "name": "python",
   "nbconvert_exporter": "python",
   "pygments_lexer": "ipython3",
   "version": "3.9.6"
  }
 },
 "nbformat": 4,
 "nbformat_minor": 1
}
